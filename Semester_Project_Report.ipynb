{
 "cells": [
  {
   "cell_type": "markdown",
   "metadata": {},
   "source": [
    "# EURECOM - SEMESTER PROJECT Spring 2017\n",
    "## Title: Datasets for Machine Learning in the Kitchen\n",
    "### Supervisor: Prof Maurizio Filippone\n",
    "### Trung-Duy NGUYEN"
   ]
  },
  {
   "cell_type": "markdown",
   "metadata": {},
   "source": [
    "## I/ Introduction\n",
    "\n",
    "Cooking recipes provide an interesting yet challenging test-beb for Machine Learning algorithms. In particular, interesting insights that can be gained from the analysis of cooking recipes are, e.g., the impact of various combinations of ingredients on dietary indicators or the rating that users attribute to recipes. Challenges arise due to the variety of ways in which recipes can be represented in a database and in the complexity of representing sequences of actions involving ingredients and their quantities. Also, the large number of possible ingredientsin a recipe makes the representation in the large dimension, and this generally posessome problems with Machine Learning algorithms.\n",
    "\n",
    "## II/ Objectives / Goals\n",
    "\n",
    "The aim of this project is to design ways to represent recipes and apply some basic Machine Learning algorithms to solve some simple tasks such as classification of popular recipes. In particular, the project will identify web resources to access various recipes, will apply Natural Language Processing techniques to parse the recipes and create a database that will be processed using some basic Machine Learning techniques.\n",
    "\n",
    "Due to the objectives of the project, the main tasks which need to be achieved are:\n",
    "+ Crawl - collect recipes from web sources\n",
    "+ Construct database schema for crawled data\n",
    "+ Apply some basic Machine Learning algorithms (optional)"
   ]
  },
  {
   "cell_type": "markdown",
   "metadata": {},
   "source": [
    "## III/ My work\n",
    "\n",
    "### A/  Crawl - collect recipes links from web sources\n",
    "\n",
    "   1. Data sources: In the scope of this project, Prof. Filippone and I decided to crawl recipes from the **FOOD.com** site\n",
    "   2. Data source description: \n",
    "        + **FOOD.com** has nearly 20 million of users who access each month\n",
    "        + has over 500,000 recipes to freely access with details and high rate of users interaction with 2 million Facebook likes. \n",
    "    \n",
    "    **This extensive amount of data is sufficient and necessary to feed to Machine Learning algorithms.**\n",
    "\n",
    "   3. Software, tools and libraries:\n",
    "        + **Selenium** Webdriver: WebDriver is designed to provide a simpler, more concise programming interface in addition to addressing some limitations in the Selenium-RC API. Selenium-WebDriver was developed to better support dynamic web pages where elements of a page may change without the page itself being reloaded. WebDriver’s goal is to supply a well-designed object-oriented API that provides improved support for modern advanced web-app testing problems. **=> Create a virtual web browser on python environment to access target sites**\n",
    "        + **BeautifulSoup**: is a Python library for pulling data out of HTML and XML files. It works with your favorite parser to provide idiomatic ways of navigating, searching, and modifying the parse tree. **=> Parsing HTML content from target sites and  Construct an Element tree from parsed data. It is also used for manipulate, extract and access HTML content**"
   ]
  },
  {
   "cell_type": "code",
   "execution_count": 2,
   "metadata": {
    "collapsed": false
   },
   "outputs": [],
   "source": [
    "from Crawl_link import *\n",
    "\n",
    "def main_crawl_link():\n",
    "    pre_link = 'http://www.food.com/services/mobile/fdc/search/sectionfront?pn='\n",
    "    pos_link = '&searchTerm=&recordType=Recipe&sortBy=mostPopular&collectionId=17'\n",
    "    link = []\n",
    "    \n",
    "    start_time = datetime.datetime.now()\n",
    "    \n",
    "    for i in range(1,12813):\n",
    "        browser = webdriver.Chrome()\n",
    "        browser.get(pre_link+str(i)+pos_link) \n",
    "        soup = BeautifulSoup(browser.page_source, 'html.parser')\n",
    "        browser.close()\n",
    "        browser.quit()\n",
    "    \n",
    "        clean_html = soup.select('span.text')\n",
    "        record_url = []\n",
    "        for k in range(0,len(clean_html)):\n",
    "            record_url.append(clean_html[k].getText())\n",
    "    \n",
    "        link = link + [str(s) for s in record_url if \"http://www.food.com/recipe/\" in s]\n",
    "        print('Done loop ' + str(i))\n",
    "        if (datetime.datetime.now().minute-start_time.minute)%9 == 1 :\n",
    "            time.sleep(120)\n",
    "        else:\n",
    "            time.sleep(rand.randint(1, 10))\n",
    "    datalinks = open(\"recipe_list.txt\", \"w\")\n",
    "    for item in link:\n",
    "        datalinks.writelines(item+'\\n')\n",
    "    datalinks.close()"
   ]
  },
  {
   "cell_type": "markdown",
   "metadata": {},
   "source": [
    "#### Problem during this task:\n",
    "1. The website is rendered by Javascript with __infinite scrolling__: At the beginning, my attempt is using Scrappy (which is also the scrapper framework, more popular than Selenium); unfortunately, this framework only allow to render the site once a time, which means the further content when we scroll the page is not visible to crawl. **Solution:** Instead of using Scrappy, I found that Selenium Webdriver has the ability to render interactive javascript page, which updates the HTML source when users interact with webpages\n",
    "2. **Request timeout** when crawling the links of recipes: Very naive, my intuition is collecting the links one by one at the main index page; my approach went well until I realized that the time for a user to access the page is roughly 120 mins. After that, the connection to the page will be shutdown automatically. **Solution:** I tracked the package that sends data from server to the page and started collecting data on its address.\n",
    "\n",
    "#### Results: Over 120,000 recipes links are collected"
   ]
  },
  {
   "cell_type": "code",
   "execution_count": 8,
   "metadata": {
    "collapsed": false
   },
   "outputs": [
    {
     "name": "stdout",
     "output_type": "stream",
     "text": [
      "http://www.food.com/recipe/bourbon-chicken-45809\n",
      "http://www.food.com/recipe/to-die-for-crock-pot-roast-27208\n",
      "http://www.food.com/recipe/crock-pot-chicken-with-black-beans-cream-cheese-89204\n",
      "http://www.food.com/recipe/creamy-cajun-chicken-pasta-39087\n",
      "http://www.food.com/recipe/best-ever-banana-cake-with-cream-cheese-frosting-67256\n",
      "http://www.food.com/recipe/yes-virginia-there-is-a-great-meatloaf-54257\n",
      "http://www.food.com/recipe/quot-whatever-floats-your-boat-quot-brownies-32204\n",
      "http://www.food.com/recipe/jo-mamas-world-famous-spaghetti-22782\n",
      "http://www.food.com/recipe/oatmeal-raisin-cookies-35813\n",
      "http://www.food.com/recipe/ice-cubes-420398\n"
     ]
    }
   ],
   "source": [
    "with open('recipe_list.txt', 'r') as f:\n",
    "    line = f.read().split('\\n')[0:10]\n",
    "for x in line: print x"
   ]
  },
  {
   "cell_type": "markdown",
   "metadata": {},
   "source": [
    "### B/  Crawl recipes information from collected links\n",
    "1. Overview of the recipe structure:\n",
    "![A sample of a recipe](./recipe_sample.png \"Logo Title Text 1\")\n",
    "\n",
    "2. Which are attributes needed to collect?\n",
    "\n",
    "    **10 attributes**\n",
    "    + Recipe ID: int\n",
    "    + Category: string\n",
    "    + Link associated to a recipe: url encoded in string\n",
    "    + Recipe name: string\n",
    "    + Rate: float\n",
    "    + Vote: int\n",
    "    + Cook time: datetime\n",
    "    + Number of people needs a recipe to be served: int\n",
    "    + List of ingredients: List of strings\n",
    "    + List of directions: List of strings\n",
    "3. XML Schema represented as Tree structure:\n",
    "    + recipe\n",
    "       + --> recipe_ID\n",
    "       + --> category\n",
    "       + --> recipe_name\n",
    "       + --> link\n",
    "       + --> rate\n",
    "       + --> vote\n",
    "       + --> cook_time\n",
    "       + --> serving\n",
    "       + --> list_ingredient\n",
    "           + --> ingredient\n",
    "       + --> list_direction\n",
    "           + --> direction\n",
    "3. Methods:\n",
    "    \n",
    "    + Using lxml etree library to track the XPath of a HTML element then parsing it content to our self-built data schema\n",
    "    + In this project, I would like to store data in the format of **XML**"
   ]
  },
  {
   "cell_type": "code",
   "execution_count": 39,
   "metadata": {
    "collapsed": false
   },
   "outputs": [
    {
     "name": "stdout",
     "output_type": "stream",
     "text": [
      "<recipe>\n",
      "    <recipe_ID>26555</recipe_ID>\n",
      "    <category>Candy</category>\n",
      "    <link>http://www.food.com/recipe/best-buckeyes-peanut-butter-and-chocolate-candies-26555\n",
      "</link>\n",
      "    <recipe_name>Best Buckeyes (Peanut Butter and Chocolate Candies)</recipe_name>\n",
      "    <rate>4.59</rate>\n",
      "    <vote>32</vote>\n",
      "    <cook_time>45mins</cook_time>\n",
      "    <serving>1</serving>\n",
      "    <list_ingredient>\n",
      "      <ingredient>6.52 g jar creamy peanut butter</ingredient>\n",
      "      <ingredient>2.36 ml  butter (softened) or 2.36 ml  margarine (softened)</ingredient>\n",
      "      <ingredient>4.53 g  confectioners' sugar (about 3.5 cups)</ingredient>\n",
      "      <ingredient>0.14 ml  vanilla</ingredient>\n",
      "      <ingredient>4.25 g  chocolate chips (milk or semi-sweet)</ingredient>\n",
      "      <ingredient>1.13-1.41 g  paraffin wax (I use 1/4 of a standard block)</ingredient>\n",
      "      <ingredient>Tip</ingredient>\n",
      "      <ingredient>0 to taste use 1/2 tsp of shortening per oz of chocolate instead paraffin wax</ingredient>\n",
      "    </list_ingredient>\n",
      "    <list_direction>\n",
      "      <direction>Cream peanut butter and butter.</direction>\n",
      "      <direction>Add sugar and vanilla and mix well.</direction>\n",
      "      <direction>Form into 1 inch balls and refrigerate.</direction>\n",
      "      <direction>Melt chocolate chips with parafin wax in a double boiler.</direction>\n",
      "      <direction>Dip balls into chocolate with a toothpick about 3/4 of the way covered.</direction>\n",
      "      <direction>Place chocolate side down on waxed paper.</direction>\n",
      "      <direction>Let set at room temperature or refrigerate.</direction>\n",
      "    </list_direction>\n",
      "  </recipe>\n",
      "  \n",
      "\n"
     ]
    }
   ],
   "source": [
    "from lxml import etree\n",
    "root = etree.parse('./data/new_metric_output_0.xml')\n",
    "print(etree.tostring(root.find('.//recipe'),pretty_print=True))"
   ]
  },
  {
   "cell_type": "markdown",
   "metadata": {},
   "source": [
    "#### Problems during this task:\n",
    "1. Tracking the Xpath of an html element: It is not easy to get use to with accessing an element in a xml file at first time, but ElementTree in lxml is a great tool which is used to manipulate xml documents, we can extract any element when we use the tool fluently.\n",
    "2. **Time** which is the biggest problem when collecting data. On average, each recipe needs 8 seconds to be collected, and after 2 hours we need to pause the process for 30 minutes to avoiding IP get banned. Therefore, as a simple calculation, we cost over 350 hours (over 2 weeks) to crawl all 120,000 recipes\n",
    "\n",
    "#### Result: Crawled 28,000 - 30,000 recipes\n",
    " "
   ]
  },
  {
   "cell_type": "markdown",
   "metadata": {},
   "source": [
    "### C/  Text processing: Perform Natural Language Processing techniques to the data\n",
    "\n",
    "1. Problem: \n",
    "    <center>\"Given a sentence, with non-structural format, we need to extract which part stores the quantity and which is the name of an ingrdient \"</center>\n",
    "    \n",
    "    **Example:** \n",
    "    + **\"6.52 g jar creamy peanut\"** has quantity = **6.52 g** and the name of ingredient = **creamy peanut**\n",
    "    + More complex sentence **\"2.36 ml  butter (softened) or 2.36 ml  margarine (softened)\"**, we need to extract entity either **butter** or **magarine**\n",
    "\n",
    "    **The more complexity of a sentence, the more sophisticated processing are needed ** \n",
    "2. Approaches: "
   ]
  },
  {
   "cell_type": "markdown",
   "metadata": {},
   "source": [
    "#### **a. Construct a dictionary of ingredients**\n",
    "\n",
    "There is a project developing the AI chatbot in Kitchen which is also opensource. I take advantage of this project and reuse their ingredients data. There are over 4,000 ingredients in the dictionary"
   ]
  },
  {
   "cell_type": "code",
   "execution_count": 42,
   "metadata": {
    "collapsed": false
   },
   "outputs": [
    {
     "name": "stdout",
     "output_type": "stream",
     "text": [
      "absinthe\n",
      "achiote seeds\n",
      "acini di pepe pasta\n",
      "acorn squash\n",
      "active yeast\n",
      "adobo sauce from canned chipotle peppers to taste\n",
      "adobo seasoning\n",
      "adobo seasoning to taste\n",
      "aerated milk chocolate candy bar\n",
      "albacore tuna\n"
     ]
    }
   ],
   "source": [
    "with open('ingredient_dict.txt', 'r') as f:\n",
    "    line = f.read().split('\\n')[0:10]\n",
    "for x in line: print x"
   ]
  },
  {
   "cell_type": "markdown",
   "metadata": {},
   "source": [
    "#### **b. Split a sentence to N-grams**\n",
    "\n",
    "To Extract the Name Entity of ingredients. I need to split a sentence to N-grams which N is the lenght of the given sentence. Then each gram will be compared with a vocabulary in the dictionary"
   ]
  },
  {
   "cell_type": "code",
   "execution_count": 48,
   "metadata": {
    "collapsed": false
   },
   "outputs": [
    {
     "name": "stdout",
     "output_type": "stream",
     "text": [
      "[u'grated', u'sharp', u'cheddar', u'cheese', u'grated sharp', u'sharp cheddar', u'cheddar cheese', u'grated sharp cheddar', u'sharp cheddar cheese', u'grated sharp cheddar cheese']\n"
     ]
    }
   ],
   "source": [
    "from ParseXML import process_string\n",
    "print(process_string('grated sharp cheddar cheese'))"
   ]
  },
  {
   "cell_type": "markdown",
   "metadata": {},
   "source": [
    "#### **c. Tokenization and Lemmatization**\n",
    "\n",
    "This step just simply token and lemmatize the text. In lemmatization step, I only lemmatize Nouns in a sentence."
   ]
  },
  {
   "cell_type": "code",
   "execution_count": 50,
   "metadata": {
    "collapsed": false
   },
   "outputs": [
    {
     "name": "stdout",
     "output_type": "stream",
     "text": [
      "chicken\n",
      "cheese\n"
     ]
    }
   ],
   "source": [
    "from ParseXML import lemmatize_sentence\n",
    "print(lemmatize_sentence('chickens'))\n",
    "print(lemmatize_sentence('cheeses'))"
   ]
  },
  {
   "cell_type": "markdown",
   "metadata": {},
   "source": [
    "#### d. Construct key-value pair of each sentence\n",
    "\n",
    "After processing and filtering all text, this is the step that we parse string to get the key-value pair where **the key is the index of the keyword in the dictionary** and **value is the quantity of its ingredient**"
   ]
  },
  {
   "cell_type": "code",
   "execution_count": 57,
   "metadata": {
    "collapsed": false
   },
   "outputs": [
    {
     "name": "stdout",
     "output_type": "stream",
     "text": [
      "('key:', 482)\n",
      "('value:', 1.0)\n",
      "cabbage\n",
      "('key:', 465)\n",
      "('value:', 77.11)\n",
      "buttermilk biscuit\n"
     ]
    }
   ],
   "source": [
    "from ParseXML import Parse_index,Parse_quantity,Get_key_value\n",
    "# Load dictionary\n",
    "ingredient_dict = np.load('ingredient_dict.npy').item()\n",
    "Get_key_value('1 small  head of cabbage, cored and cut into wedges',ingredient_dict)\n",
    "\n",
    "print(ingredient_dict.keys()[ingredient_dict.values().index(482)])\n",
    "\n",
    "# More complex sentence\n",
    "Get_key_value('77.11 g packagegrands homestyle refrigerated reduced-fat buttermilk biscuits, separated and cut into fourths'\\\n",
    "              ,ingredient_dict)\n",
    "print(ingredient_dict.keys()[ingredient_dict.values().index(465)])"
   ]
  },
  {
   "cell_type": "markdown",
   "metadata": {},
   "source": [
    "#### e. Insert key-value to the sparse matrix\n",
    "In the previous step, we extracted the key-value pair. Then, a recipe has multiple key-value pairs which will be input to the Matrix. Note: **the key is the column and value is the value at position [recipe_ID,key] of the matrix**\n"
   ]
  },
  {
   "cell_type": "code",
   "execution_count": 60,
   "metadata": {
    "collapsed": false
   },
   "outputs": [
    {
     "data": {
      "text/html": [
       "<div>\n",
       "<table border=\"1\" class=\"dataframe\">\n",
       "  <thead>\n",
       "    <tr style=\"text-align: right;\">\n",
       "      <th></th>\n",
       "      <th>absinthe</th>\n",
       "      <th>achiote seed</th>\n",
       "      <th>acinus di pepe pasta</th>\n",
       "      <th>acorn squash</th>\n",
       "      <th>active yeast</th>\n",
       "      <th>adobo sauce from canned chipotle pepper to taste</th>\n",
       "      <th>adobo seasoning</th>\n",
       "      <th>adobo seasoning to taste</th>\n",
       "      <th>aerated milk chocolate candy bar</th>\n",
       "      <th>albacore tuna</th>\n",
       "      <th>...</th>\n",
       "      <th>ziti pasta</th>\n",
       "      <th>zucchini</th>\n",
       "      <th>zucchini lengthwise</th>\n",
       "      <th>zucchini lengthwise then</th>\n",
       "      <th>zucchini or yellow summer squash</th>\n",
       "      <th>zucchini squash</th>\n",
       "      <th>zucchini steamed</th>\n",
       "      <th>zwieback cracker</th>\n",
       "      <th>zwieback toast</th>\n",
       "      <th>rate</th>\n",
       "    </tr>\n",
       "  </thead>\n",
       "  <tbody>\n",
       "    <tr>\n",
       "      <th>26555</th>\n",
       "      <td>0.0</td>\n",
       "      <td>0.0</td>\n",
       "      <td>0.0</td>\n",
       "      <td>0.0</td>\n",
       "      <td>0.0</td>\n",
       "      <td>0.0</td>\n",
       "      <td>0.0</td>\n",
       "      <td>0.0</td>\n",
       "      <td>0.0</td>\n",
       "      <td>0.0</td>\n",
       "      <td>...</td>\n",
       "      <td>0.0</td>\n",
       "      <td>0.0</td>\n",
       "      <td>0.0</td>\n",
       "      <td>0.0</td>\n",
       "      <td>0.0</td>\n",
       "      <td>0.0</td>\n",
       "      <td>0.0</td>\n",
       "      <td>0.0</td>\n",
       "      <td>0.0</td>\n",
       "      <td>4.59</td>\n",
       "    </tr>\n",
       "    <tr>\n",
       "      <th>30138</th>\n",
       "      <td>0.0</td>\n",
       "      <td>0.0</td>\n",
       "      <td>0.0</td>\n",
       "      <td>0.0</td>\n",
       "      <td>0.0</td>\n",
       "      <td>0.0</td>\n",
       "      <td>0.0</td>\n",
       "      <td>0.0</td>\n",
       "      <td>0.0</td>\n",
       "      <td>0.0</td>\n",
       "      <td>...</td>\n",
       "      <td>0.0</td>\n",
       "      <td>0.0</td>\n",
       "      <td>0.0</td>\n",
       "      <td>0.0</td>\n",
       "      <td>0.0</td>\n",
       "      <td>0.0</td>\n",
       "      <td>0.0</td>\n",
       "      <td>0.0</td>\n",
       "      <td>0.0</td>\n",
       "      <td>4.90</td>\n",
       "    </tr>\n",
       "    <tr>\n",
       "      <th>50498</th>\n",
       "      <td>0.0</td>\n",
       "      <td>0.0</td>\n",
       "      <td>0.0</td>\n",
       "      <td>0.0</td>\n",
       "      <td>0.0</td>\n",
       "      <td>0.0</td>\n",
       "      <td>0.0</td>\n",
       "      <td>0.0</td>\n",
       "      <td>0.0</td>\n",
       "      <td>0.0</td>\n",
       "      <td>...</td>\n",
       "      <td>0.0</td>\n",
       "      <td>0.0</td>\n",
       "      <td>0.0</td>\n",
       "      <td>0.0</td>\n",
       "      <td>0.0</td>\n",
       "      <td>0.0</td>\n",
       "      <td>0.0</td>\n",
       "      <td>0.0</td>\n",
       "      <td>0.0</td>\n",
       "      <td>4.84</td>\n",
       "    </tr>\n",
       "    <tr>\n",
       "      <th>52840</th>\n",
       "      <td>0.0</td>\n",
       "      <td>0.0</td>\n",
       "      <td>0.0</td>\n",
       "      <td>0.0</td>\n",
       "      <td>0.0</td>\n",
       "      <td>0.0</td>\n",
       "      <td>0.0</td>\n",
       "      <td>0.0</td>\n",
       "      <td>0.0</td>\n",
       "      <td>0.0</td>\n",
       "      <td>...</td>\n",
       "      <td>0.0</td>\n",
       "      <td>0.0</td>\n",
       "      <td>0.0</td>\n",
       "      <td>0.0</td>\n",
       "      <td>0.0</td>\n",
       "      <td>0.0</td>\n",
       "      <td>0.0</td>\n",
       "      <td>0.0</td>\n",
       "      <td>0.0</td>\n",
       "      <td>4.68</td>\n",
       "    </tr>\n",
       "    <tr>\n",
       "      <th>64776</th>\n",
       "      <td>0.0</td>\n",
       "      <td>0.0</td>\n",
       "      <td>0.0</td>\n",
       "      <td>0.0</td>\n",
       "      <td>0.0</td>\n",
       "      <td>0.0</td>\n",
       "      <td>0.0</td>\n",
       "      <td>0.0</td>\n",
       "      <td>0.0</td>\n",
       "      <td>0.0</td>\n",
       "      <td>...</td>\n",
       "      <td>0.0</td>\n",
       "      <td>0.0</td>\n",
       "      <td>0.0</td>\n",
       "      <td>0.0</td>\n",
       "      <td>0.0</td>\n",
       "      <td>0.0</td>\n",
       "      <td>0.0</td>\n",
       "      <td>0.0</td>\n",
       "      <td>0.0</td>\n",
       "      <td>4.80</td>\n",
       "    </tr>\n",
       "  </tbody>\n",
       "</table>\n",
       "<p>5 rows × 3927 columns</p>\n",
       "</div>"
      ],
      "text/plain": [
       "       absinthe  achiote seed  acinus di pepe pasta  acorn squash  \\\n",
       "26555       0.0           0.0                   0.0           0.0   \n",
       "30138       0.0           0.0                   0.0           0.0   \n",
       "50498       0.0           0.0                   0.0           0.0   \n",
       "52840       0.0           0.0                   0.0           0.0   \n",
       "64776       0.0           0.0                   0.0           0.0   \n",
       "\n",
       "       active yeast  adobo sauce from canned chipotle pepper to taste  \\\n",
       "26555           0.0                                               0.0   \n",
       "30138           0.0                                               0.0   \n",
       "50498           0.0                                               0.0   \n",
       "52840           0.0                                               0.0   \n",
       "64776           0.0                                               0.0   \n",
       "\n",
       "       adobo seasoning  adobo seasoning to taste  \\\n",
       "26555              0.0                       0.0   \n",
       "30138              0.0                       0.0   \n",
       "50498              0.0                       0.0   \n",
       "52840              0.0                       0.0   \n",
       "64776              0.0                       0.0   \n",
       "\n",
       "       aerated milk chocolate candy bar  albacore tuna  ...   ziti pasta  \\\n",
       "26555                               0.0            0.0  ...          0.0   \n",
       "30138                               0.0            0.0  ...          0.0   \n",
       "50498                               0.0            0.0  ...          0.0   \n",
       "52840                               0.0            0.0  ...          0.0   \n",
       "64776                               0.0            0.0  ...          0.0   \n",
       "\n",
       "       zucchini  zucchini lengthwise  zucchini lengthwise then  \\\n",
       "26555       0.0                  0.0                       0.0   \n",
       "30138       0.0                  0.0                       0.0   \n",
       "50498       0.0                  0.0                       0.0   \n",
       "52840       0.0                  0.0                       0.0   \n",
       "64776       0.0                  0.0                       0.0   \n",
       "\n",
       "       zucchini or yellow summer squash  zucchini squash  zucchini steamed  \\\n",
       "26555                               0.0              0.0               0.0   \n",
       "30138                               0.0              0.0               0.0   \n",
       "50498                               0.0              0.0               0.0   \n",
       "52840                               0.0              0.0               0.0   \n",
       "64776                               0.0              0.0               0.0   \n",
       "\n",
       "       zwieback cracker  zwieback toast  rate  \n",
       "26555               0.0             0.0  4.59  \n",
       "30138               0.0             0.0  4.90  \n",
       "50498               0.0             0.0  4.84  \n",
       "52840               0.0             0.0  4.68  \n",
       "64776               0.0             0.0  4.80  \n",
       "\n",
       "[5 rows x 3927 columns]"
      ]
     },
     "execution_count": 60,
     "metadata": {},
     "output_type": "execute_result"
    }
   ],
   "source": [
    "import pandas as pd\n",
    "\n",
    "recipe_df = pd.DataFrame.from_csv('data/data0.csv')\n",
    "\n",
    "recipe_df.head(5)\n"
   ]
  },
  {
   "cell_type": "code",
   "execution_count": 61,
   "metadata": {
    "collapsed": false
   },
   "outputs": [
    {
     "data": {
      "text/html": [
       "<div>\n",
       "<table border=\"1\" class=\"dataframe\">\n",
       "  <thead>\n",
       "    <tr style=\"text-align: right;\">\n",
       "      <th></th>\n",
       "      <th>absinthe</th>\n",
       "      <th>achiote seed</th>\n",
       "      <th>acinus di pepe pasta</th>\n",
       "      <th>acorn squash</th>\n",
       "      <th>active yeast</th>\n",
       "      <th>adobo sauce from canned chipotle pepper to taste</th>\n",
       "      <th>adobo seasoning</th>\n",
       "      <th>adobo seasoning to taste</th>\n",
       "      <th>aerated milk chocolate candy bar</th>\n",
       "      <th>albacore tuna</th>\n",
       "      <th>...</th>\n",
       "      <th>ziti pasta</th>\n",
       "      <th>zucchini</th>\n",
       "      <th>zucchini lengthwise</th>\n",
       "      <th>zucchini lengthwise then</th>\n",
       "      <th>zucchini or yellow summer squash</th>\n",
       "      <th>zucchini squash</th>\n",
       "      <th>zucchini steamed</th>\n",
       "      <th>zwieback cracker</th>\n",
       "      <th>zwieback toast</th>\n",
       "      <th>rate</th>\n",
       "    </tr>\n",
       "  </thead>\n",
       "  <tbody>\n",
       "    <tr>\n",
       "      <th>count</th>\n",
       "      <td>500.0</td>\n",
       "      <td>500.0</td>\n",
       "      <td>500.0</td>\n",
       "      <td>500.000000</td>\n",
       "      <td>500.0</td>\n",
       "      <td>500.0</td>\n",
       "      <td>500.000000</td>\n",
       "      <td>500.0</td>\n",
       "      <td>500.0</td>\n",
       "      <td>500.0</td>\n",
       "      <td>...</td>\n",
       "      <td>500.000000</td>\n",
       "      <td>500.000000</td>\n",
       "      <td>500.0</td>\n",
       "      <td>500.0</td>\n",
       "      <td>500.0</td>\n",
       "      <td>500.0</td>\n",
       "      <td>500.0</td>\n",
       "      <td>500.0</td>\n",
       "      <td>500.0</td>\n",
       "      <td>500.000000</td>\n",
       "    </tr>\n",
       "    <tr>\n",
       "      <th>mean</th>\n",
       "      <td>0.0</td>\n",
       "      <td>0.0</td>\n",
       "      <td>0.0</td>\n",
       "      <td>0.012000</td>\n",
       "      <td>0.0</td>\n",
       "      <td>0.0</td>\n",
       "      <td>0.000780</td>\n",
       "      <td>0.0</td>\n",
       "      <td>0.0</td>\n",
       "      <td>0.0</td>\n",
       "      <td>...</td>\n",
       "      <td>0.302760</td>\n",
       "      <td>0.579780</td>\n",
       "      <td>0.0</td>\n",
       "      <td>0.0</td>\n",
       "      <td>0.0</td>\n",
       "      <td>0.0</td>\n",
       "      <td>0.0</td>\n",
       "      <td>0.0</td>\n",
       "      <td>0.0</td>\n",
       "      <td>4.697720</td>\n",
       "    </tr>\n",
       "    <tr>\n",
       "      <th>std</th>\n",
       "      <td>0.0</td>\n",
       "      <td>0.0</td>\n",
       "      <td>0.0</td>\n",
       "      <td>0.154609</td>\n",
       "      <td>0.0</td>\n",
       "      <td>0.0</td>\n",
       "      <td>0.017441</td>\n",
       "      <td>0.0</td>\n",
       "      <td>0.0</td>\n",
       "      <td>0.0</td>\n",
       "      <td>...</td>\n",
       "      <td>4.782257</td>\n",
       "      <td>7.761631</td>\n",
       "      <td>0.0</td>\n",
       "      <td>0.0</td>\n",
       "      <td>0.0</td>\n",
       "      <td>0.0</td>\n",
       "      <td>0.0</td>\n",
       "      <td>0.0</td>\n",
       "      <td>0.0</td>\n",
       "      <td>0.214456</td>\n",
       "    </tr>\n",
       "    <tr>\n",
       "      <th>min</th>\n",
       "      <td>0.0</td>\n",
       "      <td>0.0</td>\n",
       "      <td>0.0</td>\n",
       "      <td>0.000000</td>\n",
       "      <td>0.0</td>\n",
       "      <td>0.0</td>\n",
       "      <td>0.000000</td>\n",
       "      <td>0.0</td>\n",
       "      <td>0.0</td>\n",
       "      <td>0.0</td>\n",
       "      <td>...</td>\n",
       "      <td>0.000000</td>\n",
       "      <td>0.000000</td>\n",
       "      <td>0.0</td>\n",
       "      <td>0.0</td>\n",
       "      <td>0.0</td>\n",
       "      <td>0.0</td>\n",
       "      <td>0.0</td>\n",
       "      <td>0.0</td>\n",
       "      <td>0.0</td>\n",
       "      <td>3.900000</td>\n",
       "    </tr>\n",
       "    <tr>\n",
       "      <th>25%</th>\n",
       "      <td>0.0</td>\n",
       "      <td>0.0</td>\n",
       "      <td>0.0</td>\n",
       "      <td>0.000000</td>\n",
       "      <td>0.0</td>\n",
       "      <td>0.0</td>\n",
       "      <td>0.000000</td>\n",
       "      <td>0.0</td>\n",
       "      <td>0.0</td>\n",
       "      <td>0.0</td>\n",
       "      <td>...</td>\n",
       "      <td>0.000000</td>\n",
       "      <td>0.000000</td>\n",
       "      <td>0.0</td>\n",
       "      <td>0.0</td>\n",
       "      <td>0.0</td>\n",
       "      <td>0.0</td>\n",
       "      <td>0.0</td>\n",
       "      <td>0.0</td>\n",
       "      <td>0.0</td>\n",
       "      <td>4.590000</td>\n",
       "    </tr>\n",
       "    <tr>\n",
       "      <th>50%</th>\n",
       "      <td>0.0</td>\n",
       "      <td>0.0</td>\n",
       "      <td>0.0</td>\n",
       "      <td>0.000000</td>\n",
       "      <td>0.0</td>\n",
       "      <td>0.0</td>\n",
       "      <td>0.000000</td>\n",
       "      <td>0.0</td>\n",
       "      <td>0.0</td>\n",
       "      <td>0.0</td>\n",
       "      <td>...</td>\n",
       "      <td>0.000000</td>\n",
       "      <td>0.000000</td>\n",
       "      <td>0.0</td>\n",
       "      <td>0.0</td>\n",
       "      <td>0.0</td>\n",
       "      <td>0.0</td>\n",
       "      <td>0.0</td>\n",
       "      <td>0.0</td>\n",
       "      <td>0.0</td>\n",
       "      <td>4.735000</td>\n",
       "    </tr>\n",
       "    <tr>\n",
       "      <th>75%</th>\n",
       "      <td>0.0</td>\n",
       "      <td>0.0</td>\n",
       "      <td>0.0</td>\n",
       "      <td>0.000000</td>\n",
       "      <td>0.0</td>\n",
       "      <td>0.0</td>\n",
       "      <td>0.000000</td>\n",
       "      <td>0.0</td>\n",
       "      <td>0.0</td>\n",
       "      <td>0.0</td>\n",
       "      <td>...</td>\n",
       "      <td>0.000000</td>\n",
       "      <td>0.000000</td>\n",
       "      <td>0.0</td>\n",
       "      <td>0.0</td>\n",
       "      <td>0.0</td>\n",
       "      <td>0.0</td>\n",
       "      <td>0.0</td>\n",
       "      <td>0.0</td>\n",
       "      <td>0.0</td>\n",
       "      <td>4.860000</td>\n",
       "    </tr>\n",
       "    <tr>\n",
       "      <th>max</th>\n",
       "      <td>0.0</td>\n",
       "      <td>0.0</td>\n",
       "      <td>0.0</td>\n",
       "      <td>2.000000</td>\n",
       "      <td>0.0</td>\n",
       "      <td>0.0</td>\n",
       "      <td>0.390000</td>\n",
       "      <td>0.0</td>\n",
       "      <td>0.0</td>\n",
       "      <td>0.0</td>\n",
       "      <td>...</td>\n",
       "      <td>75.690000</td>\n",
       "      <td>118.290000</td>\n",
       "      <td>0.0</td>\n",
       "      <td>0.0</td>\n",
       "      <td>0.0</td>\n",
       "      <td>0.0</td>\n",
       "      <td>0.0</td>\n",
       "      <td>0.0</td>\n",
       "      <td>0.0</td>\n",
       "      <td>5.000000</td>\n",
       "    </tr>\n",
       "  </tbody>\n",
       "</table>\n",
       "<p>8 rows × 3927 columns</p>\n",
       "</div>"
      ],
      "text/plain": [
       "       absinthe  achiote seed  acinus di pepe pasta  acorn squash  \\\n",
       "count     500.0         500.0                 500.0    500.000000   \n",
       "mean        0.0           0.0                   0.0      0.012000   \n",
       "std         0.0           0.0                   0.0      0.154609   \n",
       "min         0.0           0.0                   0.0      0.000000   \n",
       "25%         0.0           0.0                   0.0      0.000000   \n",
       "50%         0.0           0.0                   0.0      0.000000   \n",
       "75%         0.0           0.0                   0.0      0.000000   \n",
       "max         0.0           0.0                   0.0      2.000000   \n",
       "\n",
       "       active yeast  adobo sauce from canned chipotle pepper to taste  \\\n",
       "count         500.0                                             500.0   \n",
       "mean            0.0                                               0.0   \n",
       "std             0.0                                               0.0   \n",
       "min             0.0                                               0.0   \n",
       "25%             0.0                                               0.0   \n",
       "50%             0.0                                               0.0   \n",
       "75%             0.0                                               0.0   \n",
       "max             0.0                                               0.0   \n",
       "\n",
       "       adobo seasoning  adobo seasoning to taste  \\\n",
       "count       500.000000                     500.0   \n",
       "mean          0.000780                       0.0   \n",
       "std           0.017441                       0.0   \n",
       "min           0.000000                       0.0   \n",
       "25%           0.000000                       0.0   \n",
       "50%           0.000000                       0.0   \n",
       "75%           0.000000                       0.0   \n",
       "max           0.390000                       0.0   \n",
       "\n",
       "       aerated milk chocolate candy bar  albacore tuna     ...      \\\n",
       "count                             500.0          500.0     ...       \n",
       "mean                                0.0            0.0     ...       \n",
       "std                                 0.0            0.0     ...       \n",
       "min                                 0.0            0.0     ...       \n",
       "25%                                 0.0            0.0     ...       \n",
       "50%                                 0.0            0.0     ...       \n",
       "75%                                 0.0            0.0     ...       \n",
       "max                                 0.0            0.0     ...       \n",
       "\n",
       "       ziti pasta    zucchini  zucchini lengthwise  zucchini lengthwise then  \\\n",
       "count  500.000000  500.000000                500.0                     500.0   \n",
       "mean     0.302760    0.579780                  0.0                       0.0   \n",
       "std      4.782257    7.761631                  0.0                       0.0   \n",
       "min      0.000000    0.000000                  0.0                       0.0   \n",
       "25%      0.000000    0.000000                  0.0                       0.0   \n",
       "50%      0.000000    0.000000                  0.0                       0.0   \n",
       "75%      0.000000    0.000000                  0.0                       0.0   \n",
       "max     75.690000  118.290000                  0.0                       0.0   \n",
       "\n",
       "       zucchini or yellow summer squash  zucchini squash  zucchini steamed  \\\n",
       "count                             500.0            500.0             500.0   \n",
       "mean                                0.0              0.0               0.0   \n",
       "std                                 0.0              0.0               0.0   \n",
       "min                                 0.0              0.0               0.0   \n",
       "25%                                 0.0              0.0               0.0   \n",
       "50%                                 0.0              0.0               0.0   \n",
       "75%                                 0.0              0.0               0.0   \n",
       "max                                 0.0              0.0               0.0   \n",
       "\n",
       "       zwieback cracker  zwieback toast        rate  \n",
       "count             500.0           500.0  500.000000  \n",
       "mean                0.0             0.0    4.697720  \n",
       "std                 0.0             0.0    0.214456  \n",
       "min                 0.0             0.0    3.900000  \n",
       "25%                 0.0             0.0    4.590000  \n",
       "50%                 0.0             0.0    4.735000  \n",
       "75%                 0.0             0.0    4.860000  \n",
       "max                 0.0             0.0    5.000000  \n",
       "\n",
       "[8 rows x 3927 columns]"
      ]
     },
     "execution_count": 61,
     "metadata": {},
     "output_type": "execute_result"
    }
   ],
   "source": [
    "recipe_df.describe()"
   ]
  },
  {
   "cell_type": "markdown",
   "metadata": {},
   "source": [
    "#### Problem during this task:\n",
    "1. The matching keyword problem: many current recipe parsers only have the one-to-one matching mechanism by given a fixed format of the sentence (e.g pyprika, ingredientparser ...). In this project, I built a function which can match a noun phrase to keywords in dictionary, the function is flexible with adapability to different kind of sentence formats."
   ]
  },
  {
   "cell_type": "markdown",
   "metadata": {},
   "source": [
    "### D/ Apply some basic Machine Learning algorithms (optional)\n",
    "\n",
    "1. Description: I would like to perform some Machine Learning classification algorithms on the dataset such as:\n",
    "    + Gaussian Naive Bayes\n",
    "    + Multinomial Naive Bayes\n",
    "    + Support Vector Machine (SVM)\n",
    "    \n",
    "    **Total dataset has 5500 reccords with 3927 columns. The training set and testing set account for 80% and 20% respectively**\n",
    "2. Models performance: "
   ]
  },
  {
   "cell_type": "code",
   "execution_count": 1,
   "metadata": {
    "collapsed": false
   },
   "outputs": [],
   "source": [
    "from Classification import load_data,run_models\n",
    "import pandas as pd\n",
    "import numpy as np\n",
    "\n",
    "recipe_features,recipe_labels = load_data()"
   ]
  },
  {
   "cell_type": "code",
   "execution_count": 2,
   "metadata": {
    "collapsed": false
   },
   "outputs": [
    {
     "name": "stdout",
     "output_type": "stream",
     "text": [
      "Iter: 0\n",
      "Iter: 1\n",
      "Iter: 2\n",
      "Iter: 3\n",
      "Iter: 4\n",
      "Iter: 5\n",
      "Iter: 6\n",
      "Iter: 7\n",
      "Iter: 8\n",
      "Iter: 9\n"
     ]
    }
   ],
   "source": [
    "gaussNB,multiNB,svm= run_models(recipe_features,recipe_labels)"
   ]
  },
  {
   "cell_type": "code",
   "execution_count": 8,
   "metadata": {
    "collapsed": false
   },
   "outputs": [
    {
     "data": {
      "image/png": "[encoded data removed]",
      "text/plain": [
       "<matplotlib.figure.Figure at 0x1d1da9b0>"
      ]
     },
     "metadata": {},
     "output_type": "display_data"
    }
   ],
   "source": [
    "import matplotlib.pyplot as plt\n",
    "\n",
    "plt.plot(range(0,10),gaussNB, linestyle=\"-\", label='GaussianNB')\n",
    "plt.plot(range(0,10),multiNB, linestyle=\"-\", label='MultinomialNB')\n",
    "plt.plot(range(0,10),svm, linestyle=\"-\", label='SVM')\n",
    "plt.title('Accuracies after 10 iterations')\n",
    "plt.ylabel('Accuracy')\n",
    "plt.xlabel('Iter')\n",
    "plt.legend()\n",
    "plt.show()"
   ]
  },
  {
   "cell_type": "code",
   "execution_count": 3,
   "metadata": {
    "collapsed": false
   },
   "outputs": [
    {
     "name": "stdout",
     "output_type": "stream",
     "text": [
      "[0.54981549815498154, 0.58890845070422537, 0.57497612225405925, 0.57745187901008255, 0.5798016230838593, 0.5412757973733584, 0.57345971563981046, 0.57002676181980372, 0.57816836262719706, 0.57103574702108162]\n",
      "[0.58394833948339486, 0.58450704225352113, 0.5854823304680038, 0.59028414298808429, 0.59332732191163207, 0.59474671669793622, 0.60379146919431281, 0.61819803746654778, 0.61702127659574468, 0.56645279560036665]\n",
      "[0.6872693726937269, 0.69454225352112675, 0.72110792741165231, 0.72135655362053164, 0.68259693417493239, 0.69418386491557227, 0.69004739336492893, 0.70829616413916141, 0.70027752081406103, 0.71402383134738767]\n"
     ]
    }
   ],
   "source": [
    "print(gaussNB)\n",
    "print(multiNB)\n",
    "print(svm)"
   ]
  },
  {
   "cell_type": "markdown",
   "metadata": {},
   "source": [
    "#### Some further pre-processing techniques\n",
    "+ Columns with zero mean are dropped\n",
    "+ Perform PCA on pricipal components"
   ]
  },
  {
   "cell_type": "code",
   "execution_count": 7,
   "metadata": {
    "collapsed": false
   },
   "outputs": [
    {
     "name": "stdout",
     "output_type": "stream",
     "text": [
      "(5500, 1300)\n"
     ]
    }
   ],
   "source": [
    "from sklearn.decomposition import PCA\n",
    "from Classification import run_models_pca\n",
    "\n",
    "df = pd.DataFrame(recipe_features)\n",
    "recipe_drop = df.loc[:, (df != 0).any(axis=0)]\n",
    "print(recipe_drop.shape)"
   ]
  },
  {
   "cell_type": "code",
   "execution_count": 7,
   "metadata": {
    "collapsed": false
   },
   "outputs": [
    {
     "name": "stdout",
     "output_type": "stream",
     "text": [
      "(4395L, 20L)\n"
     ]
    }
   ],
   "source": [
    " recipe_df = pd.DataFrame(np.c_[recipe_labels,recipe_features])\n",
    "        \n",
    "train_proportion = np.random.rand(len(recipe_df)) < 0.8\n",
    "train = recipe_df[train_proportion]\n",
    "test = recipe_df[~train_proportion]\n",
    "        \n",
    "#        X_train = train.as_matrix()[:,1:]\n",
    "y_train = train.as_matrix()[:,0]\n",
    "#        \n",
    "#        X_test = test.as_matrix()[:,1:]\n",
    "y_test = test.as_matrix()[:,0]\n",
    "        \n",
    "pca = PCA(n_components=20)\n",
    "X_train_pca = pca.fit_transform(train.as_matrix()[:,1:])\n",
    "X_test_pca = pca.transform(test.as_matrix()[:,1:])\n",
    "\n",
    "print(X_train_pca.shape)"
   ]
  },
  {
   "cell_type": "code",
   "execution_count": 10,
   "metadata": {
    "collapsed": false
   },
   "outputs": [
    {
     "name": "stdout",
     "output_type": "stream",
     "text": [
      "Iter: 0\n",
      "Iter: 1\n",
      "Iter: 2\n",
      "Iter: 3\n",
      "Iter: 4\n",
      "Iter: 5\n",
      "Iter: 6\n",
      "Iter: 7\n",
      "Iter: 8\n",
      "Iter: 9\n"
     ]
    }
   ],
   "source": [
    "gaussNB,svm= run_models_pca(recipe_drop,recipe_labels,20)"
   ]
  },
  {
   "cell_type": "code",
   "execution_count": 13,
   "metadata": {
    "collapsed": false
   },
   "outputs": [
    {
     "data": {
      "image/png": "[encoded data removed]",
      "text/plain": [
       "<matplotlib.figure.Figure at 0xea361d0>"
      ]
     },
     "metadata": {},
     "output_type": "display_data"
    }
   ],
   "source": [
    "import matplotlib.pyplot as plt\n",
    "plt.plot(range(0,10),gaussNB, linestyle=\"-\", label='GaussianNB')\n",
    "plt.plot(range(0,10),svm, linestyle=\"-\", label='SVM')\n",
    "plt.title('Accuracy after applying dimensional reduction')\n",
    "plt.ylabel('Accuracy')\n",
    "plt.xlabel('Iter')\n",
    "plt.legend()\n",
    "plt.show()"
   ]
  },
  {
   "cell_type": "code",
   "execution_count": 11,
   "metadata": {
    "collapsed": false
   },
   "outputs": [
    {
     "name": "stdout",
     "output_type": "stream",
     "text": [
      "[0.45818505338078291, 0.44723183391003463, 0.43767060964513194, 0.46571682991985752, 0.45281306715063518, 0.46601073345259392, 0.45874886672710791, 0.45540796963946867, 0.47589285714285712, 0.47262773722627738]\n",
      "[0.68060498220640564, 0.68339100346020765, 0.68334849863512281, 0.69545859305431879, 0.66969147005444651, 0.6753130590339893, 0.67089755213055302, 0.7011385199240987, 0.65892857142857142, 0.68978102189781021]\n"
     ]
    }
   ],
   "source": [
    "print(gaussNB)\n",
    "print(svm)"
   ]
  },
  {
   "cell_type": "markdown",
   "metadata": {},
   "source": [
    "#### Reuse Bayes Classifier code in ASI acessed assignment"
   ]
  },
  {
   "cell_type": "code",
   "execution_count": 14,
   "metadata": {
    "collapsed": false
   },
   "outputs": [
    {
     "name": "stdout",
     "output_type": "stream",
     "text": [
      "(4400L, 1301L)\n"
     ]
    }
   ],
   "source": [
    "import numpy as np\n",
    "from sklearn.model_selection import train_test_split\n",
    "\n",
    "X_train, X_test, y_train, y_test = train_test_split(recipe_drop, recipe_labels, test_size=0.2, random_state = 42)\n",
    "recipe_train = np.c_[y_train,X_train]\n",
    "recipe_test = np.c_[y_test,X_test]\n",
    "print(recipe_train.shape)"
   ]
  },
  {
   "cell_type": "code",
   "execution_count": 15,
   "metadata": {
    "collapsed": false
   },
   "outputs": [],
   "source": [
    "from Bayes_classifier import separateByClass,summarize,summarizeByClass,getMean,getCovbyClass,getDetbyClass,getprior\n",
    "from Bayes_classifier import Bayes_Classifier_fit,calculateClassProbabilities2,predict2,getPredictions,score\n",
    "import itertools\n",
    "import matplotlib.pyplot as plt\n",
    "from sklearn.metrics import confusion_matrix\n",
    "\n",
    "def plot_confusion_matrix(cm, classes, normalize=False,title='Confusion matrix',cmap=plt.cm.Blues):\n",
    "    \n",
    "    plt.imshow(cm, interpolation='nearest', cmap=cmap)\n",
    "    plt.title(title)\n",
    "    plt.colorbar()\n",
    "    tick_marks = np.arange(len(classes))\n",
    "    plt.xticks(tick_marks, classes, rotation=45)\n",
    "    plt.yticks(tick_marks, classes)\n",
    "\n",
    "    if normalize:\n",
    "        cm = cm.astype('float') / cm.sum(axis=1)[:, np.newaxis]\n",
    "        print(\"Normalized confusion matrix\")\n",
    "    else:\n",
    "        print('Confusion matrix, without normalization')\n",
    "\n",
    "    thresh = cm.max() / 2.\n",
    "    for i, j in itertools.product(range(cm.shape[0]), range(cm.shape[1])):\n",
    "        plt.text(j, i, cm[i, j],\n",
    "                 horizontalalignment=\"center\",\n",
    "                 color=\"white\" if cm[i, j] > thresh else \"black\")\n",
    "\n",
    "    plt.tight_layout()\n",
    "    plt.ylabel('True label')\n",
    "    plt.xlabel('Predicted label')"
   ]
  },
  {
   "cell_type": "code",
   "execution_count": 16,
   "metadata": {
    "collapsed": false
   },
   "outputs": [
    {
     "name": "stdout",
     "output_type": "stream",
     "text": [
      "===== TRAINING =====\n",
      "===== START TRAINING =====\n",
      "Training time: 8.85899996758s\n",
      "===== FINISH TRAINING =====\n",
      "===== PREDICTING =====\n",
      "('Done sample test: ', 0)\n"
     ]
    },
    {
     "name": "stderr",
     "output_type": "stream",
     "text": [
      "Bayes_classifier.py:124: RuntimeWarning: divide by zero encountered in log\n",
      "  probabilities[classValue] = term1 + term2 + np.log(prior[classValue])\n"
     ]
    },
    {
     "name": "stdout",
     "output_type": "stream",
     "text": [
      "('Done sample test: ', 1000)\n",
      "Model Accuracy: 42.6363636364%\n"
     ]
    }
   ],
   "source": [
    "print('===== TRAINING =====')\n",
    "summaries,cov_class,Mean,logdet, prior = Bayes_Classifier_fit(recipe_train)\n",
    "\n",
    "print('===== PREDICTING =====')\n",
    "predicting= getPredictions(summaries, cov_class, Mean, logdet,prior,recipe_test[:,1:])\n",
    "acc = score(np.array(recipe_test[:,0]),predicting) \n",
    "print('Model Accuracy: '+ str(acc) +'%')\n"
   ]
  },
  {
   "cell_type": "code",
   "execution_count": 17,
   "metadata": {
    "collapsed": false
   },
   "outputs": [
    {
     "name": "stdout",
     "output_type": "stream",
     "text": [
      "Confusion matrix, without normalization\n"
     ]
    },
    {
     "data": {
      "image/png": "[encoded data removed]",
      "text/plain": [
       "<matplotlib.figure.Figure at 0x129aca58>"
      ]
     },
     "metadata": {},
     "output_type": "display_data"
    }
   ],
   "source": [
    "fig = plt.figure()\n",
    "plot_confusion_matrix(confusion_matrix(recipe_test[:,0],predicting), classes= np.array(range(0,2)),\\\n",
    "                      title=\"confusion matrix\")\n",
    "plt.show()"
   ]
  },
  {
   "cell_type": "markdown",
   "metadata": {},
   "source": [
    "## IV/ Limitations and Future work\n",
    "\n",
    "**Limitations**\n",
    "+ The time to collect one recipe is quite long (nearly 8 seconds on average)\n",
    "+ Unable to parse the US metric (e.g ounce, tablespoon ...)\n",
    "+ Some probabilistic algorithms have insignificant performance\n",
    "\n",
    "**Future Work**\n",
    "+ Instead of rendering completely the page then collecting a recipe, we should track the package transfering the content then crawling from the URL address of that package\n",
    "+ Build more complex parser which could adapt to many measurements unit\n",
    "+ There are the massive potential knowledge can be exploited from the data, namely, doing regression to predict which are popular ingredients or categories. \n"
   ]
  },
  {
   "cell_type": "markdown",
   "metadata": {},
   "source": [
    "## V/ Conclusion"
   ]
  }
 ],
 "metadata": {
  "kernelspec": {
   "display_name": "Python 2",
   "language": "python",
   "name": "python2"
  },
  "language_info": {
   "codemirror_mode": {
    "name": "ipython",
    "version": 2
   },
   "file_extension": ".py",
   "mimetype": "text/x-python",
   "name": "python",
   "nbconvert_exporter": "python",
   "pygments_lexer": "ipython2",
   "version": "2.7.13"
  }
 },
 "nbformat": 4,
 "nbformat_minor": 2
}
